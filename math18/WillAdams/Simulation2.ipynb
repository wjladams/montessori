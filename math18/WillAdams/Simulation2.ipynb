{
 "cells": [
  {
   "cell_type": "markdown",
   "metadata": {
    "heading_collapsed": true
   },
   "source": [
    "# Simulation 1"
   ]
  },
  {
   "cell_type": "code",
   "execution_count": null,
   "metadata": {
    "collapsed": true,
    "hidden": true
   },
   "outputs": [],
   "source": [
    "#!/usr/bin/env python3\n",
    "\"\"\"\n",
    "Created on Sun Feb 18 22:51:55 2018\n",
    "\n",
    "@author: Dr. Bill Adams\n",
    "\"\"\"\n",
    "import pandas as pd\n",
    "#The Earth's radius in meters\n",
    "earth_radius = 6.371e6\n",
    "#The Earth's mass in kg\n",
    "earth_mass = 5.972e24\n",
    "#Newton's gravitational constant in mks units\n",
    "G = 6.674e-11\n",
    "\n",
    "\n",
    "########################################################\n",
    "##### Functions that define our simulation          ####\n",
    "########################################################\n",
    "def next_step(delta_t, current_x, current_y, \n",
    "              current_vx, current_vy):\n",
    "    '''\n",
    "    This function moves our object forward delta_t in time.  It uses\n",
    "    the function accel_gravity() to calculate the y-axis acceleration\n",
    "    '''\n",
    "    ay = accel_gravity(current_y)\n",
    "    ax = 0\n",
    "    vy = current_vy + ay * delta_t\n",
    "    vx = current_vx + ax * delta_t\n",
    "    y = current_y + vy * delta_t\n",
    "    x = current_x + vx * delta_t\n",
    "    return (x, y, vx, vy)\n",
    "\n",
    "def accel_gravity(dist_from_surface, planet_mass=earth_mass, \n",
    "                  planet_radius=earth_radius):\n",
    "    '''\n",
    "    Calculates the acceleration due to gravity a given distance from the\n",
    "    surface of a planet.\n",
    "    '''\n",
    "    return -planet_mass * G / (dist_from_surface+planet_radius)**2\n",
    "\n",
    "def simulate(x, y, vx, vy, delta_t=0.01, max_t=1000):\n",
    "    '''\n",
    "    Performs our full simulation until the object hits the planet or\n",
    "    we go out to max_t.\n",
    "    '''\n",
    "    t = 0\n",
    "    rval = []\n",
    "    while (y >= 0) and (t < max_t):\n",
    "        x, y, vx, vy = next_step(delta_t, x, y, vx, vy)\n",
    "        #print('x='+str(x)+\" y=\"+str(y))\n",
    "        t = t+delta_t\n",
    "        rval.append([x, y, vx, vy, t])\n",
    "    return pd.DataFrame(rval, columns=['X', 'Y', 'Vx', 'Vy', 'Time'])\n"
   ]
  },
  {
   "cell_type": "code",
   "execution_count": null,
   "metadata": {
    "hidden": true
   },
   "outputs": [],
   "source": [
    "########################################################\n",
    "####  Now do the simulation   ##########################\n",
    "########################################################\n",
    "info=simulate(x=0, y=10, vx=10, vy=15000, delta_t=1, max_t=20000)\n",
    "from matplotlib import pyplot as plt\n",
    "%matplotlib inline\n",
    "#Plot the results\n",
    "plt.scatter(info['X'], info['Y'])\n",
    "plt.title(\"Projectile Trajectory\")\n",
    "plt.xlabel('X-axis')\n",
    "plt.ylabel('Vertical Height')\n"
   ]
  },
  {
   "cell_type": "code",
   "execution_count": null,
   "metadata": {
    "hidden": true
   },
   "outputs": [],
   "source": [
    "from plotly.offline import plot, iplot, init_notebook_mode\n",
    "from plotly.graph_objs import Scatter, Layout\n",
    "init_notebook_mode()"
   ]
  },
  {
   "cell_type": "markdown",
   "metadata": {
    "collapsed": true
   },
   "source": [
    "# New simulation"
   ]
  },
  {
   "cell_type": "code",
   "execution_count": null,
   "metadata": {
    "collapsed": true
   },
   "outputs": [],
   "source": [
    "from math import sqrt, sin, cos, pi\n",
    "def next_step2(delta_t, current_x, current_y, \n",
    "              current_vx, current_vy):\n",
    "    '''\n",
    "    This function moves our object forward delta_t in time.  It uses\n",
    "    the function accel_gravity() to calculate the y-axis acceleration\n",
    "    '''\n",
    "    ax, ay = accel_gravity2(current_x, current_y)\n",
    "    vy = current_vy + ay * delta_t\n",
    "    vx = current_vx + ax * delta_t\n",
    "    y = current_y + vy * delta_t\n",
    "    x = current_x + vx * delta_t\n",
    "    return (x, y, vx, vy)\n",
    "\n",
    "def accel_gravity2(x, y, planet_x=0, planet_y=0, planet_mass=earth_mass):\n",
    "    '''\n",
    "    Calculates the acceleration due to gravity a given distance from the\n",
    "    surface of a planet.\n",
    "    '''\n",
    "    dist = sqrt((x-planet_x)**2 + (y-planet_y)**2)\n",
    "    magnitude = planet_mass * G / (dist)**2\n",
    "    accel_x = -magnitude * (x-planet_x)/dist\n",
    "    accel_y = -magnitude * (y-planet_y)/dist\n",
    "    return accel_x, accel_y\n",
    "\n",
    "def simulate2(x, y, angle, v, delta_t=0.01, max_t=1000, planet_radius=earth_radius):\n",
    "    '''\n",
    "    Performs our full simulation until the object hits the planet or\n",
    "    we go out to max_t.\n",
    "    '''\n",
    "    vx = v * cos(angle)\n",
    "    vy = v * sin(angle)\n",
    "    t = 0\n",
    "    rval = []\n",
    "    while (sqrt(x**2 + y**2) >= planet_radius) and (t < max_t):\n",
    "        x, y, vx, vy = next_step2(delta_t, x, y, vx, vy)\n",
    "        #print('x='+str(x)+\" y=\"+str(y))\n",
    "        t = t+delta_t\n",
    "        rval.append([x, y, vx, vy, t])\n",
    "    return pd.DataFrame(rval, columns=['X', 'Y', 'Vx', 'Vy', 'Time'])\n"
   ]
  },
  {
   "cell_type": "code",
   "execution_count": null,
   "metadata": {},
   "outputs": [],
   "source": [
    "MY_MAX_T = 1000000\n",
    "MAX_PTS = 1000\n",
    "DIV = MY_MAX_T / MAX_PTS\n",
    "info=simulate2(x=0, y=earth_radius, angle=pi/7.8, v=11100, delta_t=1, max_t=MY_MAX_T)\n",
    "earth_xs = [earth_radius * cos(2*pi/100 * i) for i in range(500) ]\n",
    "earth_ys = [earth_radius * sin(2*pi/100 * i) for i in range(500) ]\n",
    "x = [info['X'][i] for i in range(len(info['X'])) if i % DIV == 0 ]\n",
    "y = [info['Y'][i] for i in range(len(info['Y'])) if i % DIV == 0 ]\n",
    "iplot([Scatter(x=earth_xs, y=earth_ys), Scatter(x=x, y=y)])\n",
    "del info\n",
    "del x\n",
    "del y\n",
    "del earth_xs\n",
    "del earth_ys"
   ]
  },
  {
   "cell_type": "code",
   "execution_count": null,
   "metadata": {
    "collapsed": true
   },
   "outputs": [],
   "source": []
  }
 ],
 "metadata": {
  "kernelspec": {
   "display_name": "Python 3",
   "language": "python",
   "name": "python3"
  },
  "language_info": {
   "codemirror_mode": {
    "name": "ipython",
    "version": 3
   },
   "file_extension": ".py",
   "mimetype": "text/x-python",
   "name": "python",
   "nbconvert_exporter": "python",
   "pygments_lexer": "ipython3",
   "version": "3.6.1"
  },
  "toc": {
   "colors": {
    "hover_highlight": "#DAA520",
    "navigate_num": "#000000",
    "navigate_text": "#333333",
    "running_highlight": "#FF0000",
    "selected_highlight": "#FFD700",
    "sidebar_border": "#EEEEEE",
    "wrapper_background": "#FFFFFF"
   },
   "moveMenuLeft": true,
   "nav_menu": {
    "height": "12px",
    "width": "252px"
   },
   "navigate_menu": true,
   "number_sections": true,
   "sideBar": true,
   "threshold": 4,
   "toc_cell": false,
   "toc_section_display": "block",
   "toc_window_display": false,
   "widenNotebook": false
  }
 },
 "nbformat": 4,
 "nbformat_minor": 2
}
